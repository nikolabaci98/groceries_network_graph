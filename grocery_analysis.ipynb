{
 "cells": [
  {
   "cell_type": "markdown",
   "id": "cdf5ede9",
   "metadata": {},
   "source": [
    "# Network analysis of grocery items\n",
    "\n",
    "\n",
    "\n",
    "#### Import the moduls needed"
   ]
  },
  {
   "cell_type": "code",
   "execution_count": 84,
   "id": "74e03a01",
   "metadata": {},
   "outputs": [],
   "source": [
    "import pandas as pd\n",
    "import numpy as np\n",
    "import re\n",
    "import matplotlib.pyplot as plt"
   ]
  },
  {
   "cell_type": "markdown",
   "id": "7ca0b346",
   "metadata": {},
   "source": [
    "#### Read the file"
   ]
  },
  {
   "cell_type": "code",
   "execution_count": 2,
   "id": "2a70e934",
   "metadata": {},
   "outputs": [],
   "source": [
    "groceries = pd.read_csv(\"...\") #Groceries_dataset.csv"
   ]
  },
  {
   "cell_type": "markdown",
   "id": "3f929a9c",
   "metadata": {},
   "source": [
    "#### Check the data set"
   ]
  },
  {
   "cell_type": "code",
   "execution_count": 5,
   "id": "5dad6c11",
   "metadata": {},
   "outputs": [
    {
     "data": {
      "text/html": [
       "<div>\n",
       "<style scoped>\n",
       "    .dataframe tbody tr th:only-of-type {\n",
       "        vertical-align: middle;\n",
       "    }\n",
       "\n",
       "    .dataframe tbody tr th {\n",
       "        vertical-align: top;\n",
       "    }\n",
       "\n",
       "    .dataframe thead th {\n",
       "        text-align: right;\n",
       "    }\n",
       "</style>\n",
       "<table border=\"1\" class=\"dataframe\">\n",
       "  <thead>\n",
       "    <tr style=\"text-align: right;\">\n",
       "      <th></th>\n",
       "      <th>Member_number</th>\n",
       "      <th>Date</th>\n",
       "      <th>itemDescription</th>\n",
       "    </tr>\n",
       "  </thead>\n",
       "  <tbody>\n",
       "    <tr>\n",
       "      <th>0</th>\n",
       "      <td>1808</td>\n",
       "      <td>21-07-2015</td>\n",
       "      <td>tropical fruit</td>\n",
       "    </tr>\n",
       "    <tr>\n",
       "      <th>1</th>\n",
       "      <td>2552</td>\n",
       "      <td>05-01-2015</td>\n",
       "      <td>whole milk</td>\n",
       "    </tr>\n",
       "    <tr>\n",
       "      <th>2</th>\n",
       "      <td>2300</td>\n",
       "      <td>19-09-2015</td>\n",
       "      <td>pip fruit</td>\n",
       "    </tr>\n",
       "    <tr>\n",
       "      <th>3</th>\n",
       "      <td>1187</td>\n",
       "      <td>12-12-2015</td>\n",
       "      <td>other vegetables</td>\n",
       "    </tr>\n",
       "    <tr>\n",
       "      <th>4</th>\n",
       "      <td>3037</td>\n",
       "      <td>01-02-2015</td>\n",
       "      <td>whole milk</td>\n",
       "    </tr>\n",
       "  </tbody>\n",
       "</table>\n",
       "</div>"
      ],
      "text/plain": [
       "   Member_number        Date   itemDescription\n",
       "0           1808  21-07-2015    tropical fruit\n",
       "1           2552  05-01-2015        whole milk\n",
       "2           2300  19-09-2015         pip fruit\n",
       "3           1187  12-12-2015  other vegetables\n",
       "4           3037  01-02-2015        whole milk"
      ]
     },
     "execution_count": 5,
     "metadata": {},
     "output_type": "execute_result"
    }
   ],
   "source": [
    "groceries.head()"
   ]
  },
  {
   "cell_type": "code",
   "execution_count": 3,
   "id": "153aac3e",
   "metadata": {},
   "outputs": [
    {
     "data": {
      "text/plain": [
       "(38765, 3)"
      ]
     },
     "execution_count": 3,
     "metadata": {},
     "output_type": "execute_result"
    }
   ],
   "source": [
    "groceries.shape"
   ]
  },
  {
   "cell_type": "code",
   "execution_count": 22,
   "id": "04468785",
   "metadata": {},
   "outputs": [
    {
     "data": {
      "text/plain": [
       "Member_number      0\n",
       "Date               0\n",
       "itemDescription    0\n",
       "dtype: int64"
      ]
     },
     "execution_count": 22,
     "metadata": {},
     "output_type": "execute_result"
    }
   ],
   "source": [
    "groceries.isnull().sum()"
   ]
  },
  {
   "cell_type": "markdown",
   "id": "c4829d12",
   "metadata": {},
   "source": [
    "#### Get all unique customers in the data set"
   ]
  },
  {
   "cell_type": "code",
   "execution_count": 55,
   "id": "37dd2071",
   "metadata": {},
   "outputs": [
    {
     "data": {
      "text/plain": [
       "array([1000, 1001, 1002, ..., 4998, 4999, 5000], dtype=int64)"
      ]
     },
     "execution_count": 55,
     "metadata": {},
     "output_type": "execute_result"
    }
   ],
   "source": [
    "customers = np.unique(np.array(groceries['Member_number']))\n",
    "customers"
   ]
  },
  {
   "cell_type": "markdown",
   "id": "10ef5c69",
   "metadata": {},
   "source": [
    "#### Create all possible combinations between grocery items\n",
    "A dictionary with all counts zero. Counts will change later."
   ]
  },
  {
   "cell_type": "code",
   "execution_count": 66,
   "id": "959a6dbf",
   "metadata": {},
   "outputs": [],
   "source": [
    "combos = {}\n",
    "items = np.unique(np.array(groceries['itemDescription']))\n",
    "for i in range(len(items)):\n",
    "    for j in range(i+1, len(items)):\n",
    "        if items[i] < items[j]:\n",
    "            pair = (items[i], items[j])\n",
    "        else:\n",
    "            pair = (items[j], items[i])\n",
    "            \n",
    "        combos[pair] = 0"
   ]
  },
  {
   "cell_type": "code",
   "execution_count": 85,
   "id": "5b5c4fe9",
   "metadata": {},
   "outputs": [],
   "source": [
    "#combos"
   ]
  },
  {
   "cell_type": "markdown",
   "id": "e625f904",
   "metadata": {},
   "source": [
    "#### Count tall the pair iitems bought together\n",
    "\n",
    "Here we look for each user and each purchase and count pairs of this purchese history of the customer."
   ]
  },
  {
   "cell_type": "code",
   "execution_count": 69,
   "id": "8cefa857",
   "metadata": {},
   "outputs": [],
   "source": [
    "for c in customers:\n",
    "    condition1 = groceries['Member_number'] == c\n",
    "    purcheses = groceries[condition1]\n",
    "    dates = np.unique(np.array(purcheses['Date']))\n",
    "    \n",
    "    for d in dates:\n",
    "        condition2 = groceries['Member_number'] == c\n",
    "        condition3 = groceries['Date'] == d\n",
    "        products = groceries[condition2 & condition3]\n",
    "        \n",
    "        items = np.unique(np.array(products['itemDescription']))\n",
    "        for i in range(len(items)):\n",
    "            for j in range(i+1, len(items)):\n",
    "                if items[i] < items[j]:\n",
    "                    pair = (items[i], items[j])\n",
    "                else:\n",
    "                    pair = (items[j], items[i])\n",
    "\n",
    "                combos[pair] = combos[pair] + 1\n",
    "\n",
    "                "
   ]
  },
  {
   "cell_type": "markdown",
   "id": "0695ad60",
   "metadata": {},
   "source": [
    "#### Preprare to export the data sets\n",
    "The first is the data for the nodes and the second is the edges or pairs of products"
   ]
  },
  {
   "cell_type": "code",
   "execution_count": 76,
   "id": "1c4ec9d3",
   "metadata": {},
   "outputs": [],
   "source": [
    "products = set(list(groceries['itemDescription']))\n",
    "prod_dict = {}\n",
    "for i, p in enumerate(products):\n",
    "    prod_dict[p] = i\n",
    "\n",
    "source = list()\n",
    "target = list()\n",
    "weight = list()\n",
    "for k, v in combos.items():\n",
    "    if v != 0:\n",
    "        p1, p2 = k\n",
    "        source.append(prod_dict[p1])\n",
    "        target.append(prod_dict[p2])\n",
    "        weight.append(v)\n",
    "    "
   ]
  },
  {
   "cell_type": "code",
   "execution_count": 83,
   "id": "eb9d3ed0",
   "metadata": {},
   "outputs": [],
   "source": [
    "pd.DataFrame({\n",
    "    'id': prod_dict.keys(),\n",
    "    'label': prod_dict.values()\n",
    "}).to_csv('nodes_table.csv', sep = ',')\n",
    "\n",
    "pd.DataFrame({\n",
    "    'source': source,\n",
    "    'target': target,\n",
    "    'weight': weight\n",
    "}).to_csv('edges_table.csv', sep = ',')"
   ]
  },
  {
   "cell_type": "markdown",
   "id": "4c87b498",
   "metadata": {},
   "source": [
    "## Use Gephi to visualize the network graph"
   ]
  },
  {
   "cell_type": "markdown",
   "id": "e7e03965",
   "metadata": {},
   "source": [
    "![Network Graph](groceries.png)"
   ]
  },
  {
   "cell_type": "code",
   "execution_count": null,
   "id": "b3b2cdfc",
   "metadata": {},
   "outputs": [],
   "source": []
  }
 ],
 "metadata": {
  "kernelspec": {
   "display_name": "Python 3",
   "language": "python",
   "name": "python3"
  },
  "language_info": {
   "codemirror_mode": {
    "name": "ipython",
    "version": 3
   },
   "file_extension": ".py",
   "mimetype": "text/x-python",
   "name": "python",
   "nbconvert_exporter": "python",
   "pygments_lexer": "ipython3",
   "version": "3.8.8"
  }
 },
 "nbformat": 4,
 "nbformat_minor": 5
}
